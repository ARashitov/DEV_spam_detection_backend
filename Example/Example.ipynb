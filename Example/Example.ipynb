{
 "cells": [
  {
   "cell_type": "markdown",
   "metadata": {},
   "source": [
    "# 1. Arguments"
   ]
  },
  {
   "cell_type": "code",
   "execution_count": 12,
   "metadata": {},
   "outputs": [],
   "source": [
    "import json\n",
    "import requests\n",
    "\n",
    "URL = 'http://0.0.0.0:5000/predict'\n",
    "MSG_OBJECT = {'email_content': \n",
    "              \"\"\"> you\\'re Anyone knows how much it costs to host a web portal ?\n",
    "                 >\n",
    "                 Well, it depends on how many visitors you're expecting.\n",
    "                 This can be anywhere from less than 10 bucks a month to a couple of $100. \n",
    "                 You should checkout http://www.rackspace.com/ or perhaps Amazon EC2 \n",
    "                 if youre running something big..\n",
    "\n",
    "                 To unsubscribe yourself from this mailing list, send an email to:\n",
    "                 groupname-unsubscribe@egroups.com\n",
    "                \"\"\"}"
   ]
  },
  {
   "cell_type": "markdown",
   "metadata": {},
   "source": [
    "# 2. Requests"
   ]
  },
  {
   "cell_type": "code",
   "execution_count": 13,
   "metadata": {},
   "outputs": [
    {
     "name": "stdout",
     "output_type": "stream",
     "text": [
      "CPU times: user 3.44 ms, sys: 129 µs, total: 3.57 ms\n",
      "Wall time: 61.3 ms\n"
     ]
    }
   ],
   "source": [
    "%%time\n",
    "req = requests.post(URL, data=json.dumps(MSG_OBJECT))\n",
    "result = json.loads(json.loads(req.text))"
   ]
  },
  {
   "cell_type": "markdown",
   "metadata": {},
   "source": [
    "# 3. Response"
   ]
  },
  {
   "cell_type": "code",
   "execution_count": 14,
   "metadata": {},
   "outputs": [
    {
     "name": "stdout",
     "output_type": "stream",
     "text": [
      "True\n"
     ]
    }
   ],
   "source": [
    "print(result['is_spam'])"
   ]
  }
 ],
 "metadata": {
  "kernelspec": {
   "display_name": "Python3.9 (waste-labs-dev)",
   "language": "python",
   "name": "other-env"
  },
  "language_info": {
   "codemirror_mode": {
    "name": "ipython",
    "version": 3
   },
   "file_extension": ".py",
   "mimetype": "text/x-python",
   "name": "python",
   "nbconvert_exporter": "python",
   "pygments_lexer": "ipython3",
   "version": "3.8.5"
  }
 },
 "nbformat": 4,
 "nbformat_minor": 4
}
